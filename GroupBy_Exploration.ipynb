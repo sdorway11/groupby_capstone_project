{
  "nbformat": 4,
  "nbformat_minor": 0,
  "metadata": {
    "colab": {
      "name": "GroupBy_Exploration.ipynb",
      "provenance": [],
      "mount_file_id": "1FChLCLm4vAlaO7hy-EQBPaxA1z9euWxa",
      "authorship_tag": "ABX9TyNB2SEo2Qj00P3HVTWOE0Ag",
      "include_colab_link": true
    },
    "kernelspec": {
      "name": "python3",
      "display_name": "Python 3"
    },
    "language_info": {
      "name": "python"
    }
  },
  "cells": [
    {
      "cell_type": "markdown",
      "metadata": {
        "id": "view-in-github",
        "colab_type": "text"
      },
      "source": [
        "<a href=\"https://colab.research.google.com/github/sdorway11/groupby_capstone_project/blob/develop/GroupBy_Exploration.ipynb\" target=\"_parent\"><img src=\"https://colab.research.google.com/assets/colab-badge.svg\" alt=\"Open In Colab\"/></a>"
      ]
    },
    {
      "cell_type": "code",
      "source": [
        "!pip install kaggle\n",
        "!mkdir ~/.kaggle\n",
        "!cp /content/drive/MyDrive/kaggle.json ~/.kaggle/kaggle.json\n",
        "!chmod 600 ~/.kaggle/kaggle.json\n",
        "!mkdir /content/kaggle_data\n",
        "!kaggle datasets download mkechinov/ecommerce-events-history-in-cosmetics-shop\n",
        "!unzip ecommerce-events-history-in-cosmetics-shop -d /content/kaggle_data"
      ],
      "metadata": {
        "colab": {
          "base_uri": "https://localhost:8080/"
        },
        "id": "cZjpar28HP3L",
        "outputId": "1dff55c9-f586-45bf-dc62-d9058b49b88e"
      },
      "execution_count": 1,
      "outputs": [
        {
          "output_type": "stream",
          "name": "stdout",
          "text": [
            "Requirement already satisfied: kaggle in /usr/local/lib/python3.7/dist-packages (1.5.12)\n",
            "Requirement already satisfied: six>=1.10 in /usr/local/lib/python3.7/dist-packages (from kaggle) (1.15.0)\n",
            "Requirement already satisfied: python-slugify in /usr/local/lib/python3.7/dist-packages (from kaggle) (5.0.2)\n",
            "Requirement already satisfied: requests in /usr/local/lib/python3.7/dist-packages (from kaggle) (2.23.0)\n",
            "Requirement already satisfied: urllib3 in /usr/local/lib/python3.7/dist-packages (from kaggle) (1.24.3)\n",
            "Requirement already satisfied: python-dateutil in /usr/local/lib/python3.7/dist-packages (from kaggle) (2.8.2)\n",
            "Requirement already satisfied: tqdm in /usr/local/lib/python3.7/dist-packages (from kaggle) (4.62.3)\n",
            "Requirement already satisfied: certifi in /usr/local/lib/python3.7/dist-packages (from kaggle) (2021.10.8)\n",
            "Requirement already satisfied: text-unidecode>=1.3 in /usr/local/lib/python3.7/dist-packages (from python-slugify->kaggle) (1.3)\n",
            "Requirement already satisfied: chardet<4,>=3.0.2 in /usr/local/lib/python3.7/dist-packages (from requests->kaggle) (3.0.4)\n",
            "Requirement already satisfied: idna<3,>=2.5 in /usr/local/lib/python3.7/dist-packages (from requests->kaggle) (2.10)\n",
            "mkdir: cannot create directory ‘/root/.kaggle’: File exists\n",
            "mkdir: cannot create directory ‘/content/kaggle_data’: File exists\n",
            "ecommerce-events-history-in-cosmetics-shop.zip: Skipping, found more recently modified local copy (use --force to force download)\n",
            "Archive:  ecommerce-events-history-in-cosmetics-shop.zip\n",
            "replace /content/kaggle_data/2019-Dec.csv? [y]es, [n]o, [A]ll, [N]one, [r]ename: N\n"
          ]
        }
      ]
    },
    {
      "cell_type": "code",
      "execution_count": 2,
      "metadata": {
        "id": "-FG2W7eicuDN"
      },
      "outputs": [],
      "source": [
        "import pandas as pd\n",
        "import os"
      ]
    },
    {
      "cell_type": "code",
      "source": [
        "files_csv=[]\n",
        "for dirname, _, filenames in os.walk('/content/kaggle_data'):\n",
        "    for filename in filenames:\n",
        "        files_csv.append(os.path.join(dirname, filename))"
      ],
      "metadata": {
        "id": "TUHReGWAdQrR"
      },
      "execution_count": 4,
      "outputs": []
    },
    {
      "cell_type": "code",
      "source": [
        "files_csv"
      ],
      "metadata": {
        "colab": {
          "base_uri": "https://localhost:8080/"
        },
        "id": "CuhjjSsTNbY8",
        "outputId": "0f2285f9-45b8-4805-c863-4281a6588a7e"
      },
      "execution_count": 5,
      "outputs": [
        {
          "output_type": "execute_result",
          "data": {
            "text/plain": [
              "['/content/kaggle_data/2019-Oct.csv',\n",
              " '/content/kaggle_data/2020-Jan.csv',\n",
              " '/content/kaggle_data/2019-Nov.csv',\n",
              " '/content/kaggle_data/2020-Feb.csv',\n",
              " '/content/kaggle_data/2019-Dec.csv']"
            ]
          },
          "metadata": {},
          "execution_count": 5
        }
      ]
    },
    {
      "cell_type": "code",
      "source": [
        ""
      ],
      "metadata": {
        "id": "nBXEjQlpOYQ2"
      },
      "execution_count": null,
      "outputs": []
    }
  ]
}